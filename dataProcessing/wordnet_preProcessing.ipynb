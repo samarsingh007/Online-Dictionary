{
 "cells": [
  {
   "cell_type": "code",
   "execution_count": 1,
   "metadata": {},
   "outputs": [],
   "source": [
    "from nltk.corpus import wordnet as wn\n",
    "import json\n",
    "from itertools import chain"
   ]
  },
  {
   "cell_type": "code",
   "execution_count": 2,
   "metadata": {},
   "outputs": [],
   "source": [
    "wordnetWords = set(chain(*[ss.lemma_names() for ss in wn.all_synsets()]))"
   ]
  },
  {
   "cell_type": "code",
   "execution_count": 8,
   "metadata": {},
   "outputs": [],
   "source": [
    "audioLinks = {}\n",
    "with open(\"kaikki.org-dictionary-English.json\", \"r\", encoding=\"utf-8\") as f:\n",
    "    for line in f:\n",
    "        data = json.loads(line)\n",
    "        if 'sounds' in data:\n",
    "            for j in data['sounds']:\n",
    "                if ('mp3_url' in j or 'ogg_url' in j):\n",
    "                    audioLinks[data['word']]= j['mp3_url']\n",
    "                    continue \n",
    "               "
   ]
  },
  {
   "cell_type": "code",
   "execution_count": 50,
   "metadata": {},
   "outputs": [],
   "source": [
    "def addPos(posDict,synset):\n",
    "    posMap = {\n",
    "        'n' : 'noun',\n",
    "        'a' : 'adjective',\n",
    "        'v' : 'verb',\n",
    "        'r' : 'adverb'\n",
    "    }\n",
    "    pos = synset.pos()\n",
    "    if pos == 's': return\n",
    "    for i in posDict:\n",
    "        if i['partOfSpeech'] == posMap[pos]:\n",
    "            i['definitions'].append( {\n",
    "                'definition' : synset.definition(),\n",
    "                'example' :[synset.examples()[ :],\"WordNet\"] if synset.examples() else [],\n",
    "            })\n",
    "    posDict.append({\n",
    "        'partOfSpeech' :posMap[pos],\n",
    "        'definitions' : [\n",
    "                            {\n",
    "                                    'definition' : synset.definition(),\n",
    "                                    'example' :[synset.examples()[ : ],\"WordNet\"] if synset.examples() else [],\n",
    "                                }\n",
    "        \n",
    "        ]\n",
    "    })        \n",
    "\n",
    "        "
   ]
  },
  {
   "cell_type": "code",
   "execution_count": 51,
   "metadata": {},
   "outputs": [],
   "source": [
    "finalDict = []\n",
    "for word in wordnetWords:\n",
    "    posDict = []\n",
    "    for i in wn.synsets(word):\n",
    "        addPos(posDict,i)\n",
    "    currWordDict = {}\n",
    "    currWordDict['word']=word\n",
    "    currWordDict['usage'] = posDict\n",
    "    currWordDict['source'] = \"WordNet\"\n",
    "    currWordDict['audioLink'] = audioLinks[word] if word in audioLinks else \"\"\n",
    "    finalDict.append(currWordDict)\n",
    "    \n"
   ]
  },
  {
   "cell_type": "code",
   "execution_count": 52,
   "metadata": {},
   "outputs": [],
   "source": [
    "finalDict = sorted(finalDict,key = lambda x:x['word'])\n",
    "json_object = json.dumps(finalDict, indent=4)\n",
    "with open(\"sample.json\", \"w\") as outfile:\n",
    "    outfile.write(json_object)        "
   ]
  }
 ],
 "metadata": {
  "kernelspec": {
   "display_name": "Python 3",
   "language": "python",
   "name": "python3"
  },
  "language_info": {
   "codemirror_mode": {
    "name": "ipython",
    "version": 3
   },
   "file_extension": ".py",
   "mimetype": "text/x-python",
   "name": "python",
   "nbconvert_exporter": "python",
   "pygments_lexer": "ipython3",
   "version": "3.10.1"
  },
  "orig_nbformat": 4
 },
 "nbformat": 4,
 "nbformat_minor": 2
}
